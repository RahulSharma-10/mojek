{
 "cells": [
  {
   "cell_type": "code",
   "execution_count": 11,
   "id": "bc5812fb-06e1-4133-ac27-7cac2ea0f747",
   "metadata": {},
   "outputs": [],
   "source": [
    "import os\n",
    "import requests"
   ]
  },
  {
   "cell_type": "code",
   "execution_count": 7,
   "id": "62f5ddb6-7862-46be-8d47-2978e7f6f738",
   "metadata": {},
   "outputs": [],
   "source": [
    "google_api_key = os.getenv(\"google_api_key\")\n",
    "search_engine_id = os.getenv(\"search_engine_id\")"
   ]
  },
  {
   "cell_type": "code",
   "execution_count": 15,
   "id": "2c8433f6-ebbb-4b86-9e13-3dc6710f6b9d",
   "metadata": {},
   "outputs": [],
   "source": [
    "def google_search_snippet(narration, google_api_key=google_api_key, search_engine_id=search_engine_id):\n",
    "    page = 1\n",
    "    start = (page - 1) * 10 + 1\n",
    "    url = f\"https://www.googleapis.com/customsearch/v1?key={google_api_key}&cx={search_engine_id}&q={narration}&start={start}\"\n",
    "    data = requests.get(url).json()\n",
    "    if 'error' in data.keys():\n",
    "        return \"Error: Can't connect to Google Search API\"\n",
    "    if 'items' in data.keys():\n",
    "        for item in data['items']:\n",
    "            if 'snippet' not in item.keys():\n",
    "                continue\n",
    "            snippet = item['snippet']\n",
    "            return snippet"
   ]
  },
  {
   "cell_type": "code",
   "execution_count": 95,
   "id": "0be9d0ed-6e7f-4af6-87a0-02c74262975f",
   "metadata": {},
   "outputs": [],
   "source": [
    "narration = 'Air France'"
   ]
  },
  {
   "cell_type": "code",
   "execution_count": 96,
   "id": "8bbe37bc-2a68-4c7e-9d0f-f6b4268c6204",
   "metadata": {},
   "outputs": [
    {
     "data": {
      "text/plain": [
       "'Reserve your international flights among more than 500 Air France destinations worldwide. Find offers from Air France USA and flight schedules.'"
      ]
     },
     "execution_count": 96,
     "metadata": {},
     "output_type": "execute_result"
    }
   ],
   "source": [
    "google_search_snippet(narration)"
   ]
  },
  {
   "cell_type": "code",
   "execution_count": null,
   "id": "534c235e-675f-4382-9293-1b5d2c79bf8b",
   "metadata": {},
   "outputs": [],
   "source": []
  }
 ],
 "metadata": {
  "kernelspec": {
   "display_name": "Python 3 (ipykernel)",
   "language": "python",
   "name": "python3"
  },
  "language_info": {
   "codemirror_mode": {
    "name": "ipython",
    "version": 3
   },
   "file_extension": ".py",
   "mimetype": "text/x-python",
   "name": "python",
   "nbconvert_exporter": "python",
   "pygments_lexer": "ipython3",
   "version": "3.9.0"
  }
 },
 "nbformat": 4,
 "nbformat_minor": 5
}
